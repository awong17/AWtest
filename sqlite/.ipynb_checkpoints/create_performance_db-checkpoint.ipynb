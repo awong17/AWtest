{
 "cells": [
  {
   "cell_type": "code",
   "execution_count": 1,
   "metadata": {},
   "outputs": [],
   "source": [
    "dir_path = \"/Users/allen/Documents/SQLite\""
   ]
  },
  {
   "cell_type": "code",
   "execution_count": 4,
   "metadata": {},
   "outputs": [
    {
     "name": "stdout",
     "output_type": "stream",
     "text": [
      "Current directory is: /Users/allen/Documents/SQLite\n"
     ]
    }
   ],
   "source": [
    "import sys\n",
    "import os\n",
    "#sys.path.append(os.path.abspath('../'))\n",
    "os.chdir(dir_path)\n",
    "\n",
    "import create_fp_db\n",
    "\n",
    "print(\"Current directory is: \" + str(os.getcwd()))"
   ]
  },
  {
   "cell_type": "code",
   "execution_count": 5,
   "metadata": {},
   "outputs": [],
   "source": [
    "#Defining paths for db and raw files\n",
    "#db_path = 'data/processed/fp_db.sqlite'\n",
    "db_path = dir_path+'/data/processed/fp_db.sqlite'\n",
    "#raw_path = 'data/raw/On_Time_On_Time_Performance_2015_1_v1.csv' #location of raw folder not path\n",
    "#raw_folder= 'data/raw'\n",
    "raw_folder = dir_path + '/data/raw'\n",
    "col_path = dir_path + '/data/raw/perf_cols.txt'\n",
    "#cols = ['Year','Quarter','Month','DayofMonth','DayOfWeek','FlightDate','UniqueCarrier','AirlineID','Carrier','TailNum','FlightNum']\n"
   ]
  },
  {
   "cell_type": "code",
   "execution_count": 5,
   "metadata": {},
   "outputs": [
    {
     "name": "stdout",
     "output_type": "stream",
     "text": [
      "['Year', 'Quarter', 'Month', 'DayofMonth', 'DayOfWeek', 'FlightDate', 'UniqueCarrier', 'AirlineID', 'Carrier', 'TailNum', 'FlightNum', 'OriginAirportID', 'OriginAirportSeqID', 'OriginCityMarketID', 'Origin', 'OriginCityName', 'OriginState', 'OriginStateFips', 'OriginStateName', 'OriginWac', 'DestAirportID', 'DestAirportSeqID', 'DestCityMarketID', 'Dest', 'DestCityName', 'DestState', 'DestStateFips', 'DestStateName', 'DestWac', 'CRSDepTime', 'DepTime', 'DepDelay', 'DepDelayMinutes', 'DepDel15', 'DepartureDelayGroups', 'DepTimeBlk', 'TaxiOut', 'WheelsOff', 'WheelsOn', 'TaxiIn', 'CRSArrTime', 'ArrTime', 'ArrDelay', 'ArrDelayMinutes', 'ArrDel15', 'ArrivalDelayGroups', 'ArrTimeBlk', 'Cancelled', 'CancellationCode', 'Diverted', 'CRSElapsedTime', 'ActualElapsedTime', 'AirTime', 'Flights', 'Distance', 'DistanceGroup', 'CarrierDelay', 'WeatherDelay', 'NASDelay', 'SecurityDelay', 'LateAircraftDelay', 'FirstDepTime', 'TotalAddGTime', 'LongestAddGTime', 'DivAirportLandings', 'DivReachedDest', 'DivActualElapsedTime', 'DivArrDelay', 'DivDistance', 'Div1Airport', 'Div1AirportID', 'Div1AirportSeqID', 'Div1WheelsOn', 'Div1TotalGTime', 'Div1LongestGTime', 'Div1WheelsOff', 'Div1TailNum', 'Div2Airport', 'Div2AirportID', 'Div2AirportSeqID', 'Div2WheelsOn', 'Div2TotalGTime', 'Div2LongestGTime', 'Div2WheelsOff', 'Div2TailNum', 'Div3Airport', 'Div3AirportID', 'Div3AirportSeqID', 'Div3WheelsOn', 'Div3TotalGTime', 'Div3LongestGTime', 'Div3WheelsOff', 'Div3TailNum', 'Div4Airport', 'Div4AirportID', 'Div4AirportSeqID', 'Div4WheelsOn', 'Div4TotalGTime', 'Div4LongestGTime', 'Div4WheelsOff', 'Div4TailNum', 'Div5Airport', 'Div5AirportID', 'Div5AirportSeqID', 'Div5WheelsOn', 'Div5TotalGTime', 'Div5LongestGTime', 'Div5WheelsOff', 'Div5TailNum', '']\n"
     ]
    }
   ],
   "source": [
    "#Import list of columns based on the text file of column names\n",
    "#This will print all the columns that are used\n",
    "cols_file = open(col_path)\n",
    "cols = cols_file.read().split('\\n')\n",
    "cols_file.close()\n",
    "print(cols)"
   ]
  },
  {
   "cell_type": "code",
   "execution_count": 14,
   "metadata": {
    "scrolled": true
   },
   "outputs": [
    {
     "name": "stdout",
     "output_type": "stream",
     "text": [
      "DB created succesfully at :data/processed/fp_db.sqlite\n"
     ]
    }
   ],
   "source": [
    "#Creating the db file\n",
    "#Look into adding this file checker\n",
    "create_fp_db.create_db(db_path)"
   ]
  },
  {
   "cell_type": "code",
   "execution_count": 15,
   "metadata": {},
   "outputs": [
    {
     "name": "stdout",
     "output_type": "stream",
     "text": [
      " 'YEAR' NOT NULL,'Quarter' INT NOT NULL,'Month' INT NOT NULL,'DayofMonth' INT NOT NULL,'DayOfWeek' INT NOT NULL,'FlightDate' DATE NOT NULL,'UniqueCarrier' VARCHAR(10) NULL,'AirlineID' INT NOT NULL,'Carrier' VARCHAR(10) NULL,'TailNum' VARCHAR(45) Null,'FlightNum' INT NULL\n"
     ]
    }
   ],
   "source": [
    "#Add the wanted columns to the table\n",
    "db_cols = create_fp_db.col_parse(cols)\n",
    "create_fp_db.create_table(db_path,db_cols)\n",
    "print(db_cols)\n"
   ]
  },
  {
   "cell_type": "code",
   "execution_count": 16,
   "metadata": {},
   "outputs": [
    {
     "name": "stdout",
     "output_type": "stream",
     "text": [
      "Finished inserting file 1\n",
      "Finished inserting file 2\n",
      "Finished inserting file 3\n",
      "Finished inserting file 4\n",
      "Finished inserting file 5\n",
      "Finished inserting file 6\n"
     ]
    }
   ],
   "source": [
    "#Add the raw data to the table\n",
    "#This will add from files 1 through (n-1). Since there are 12 files, we will use 1 through 13\n",
    "for i in range(1,7):\n",
    "    raw_path = raw_folder +'/On_Time_On_Time_Performance_2015_'+str(i)+'_v1.csv'\n",
    "    create_fp_db.insert_data(db_path,raw_path,cols)\n",
    "    print('Finished inserting file ' + str(i))\n",
    "#create_fp_db.insert_data(db_path_n,raw_path,cols)"
   ]
  }
 ],
 "metadata": {
  "kernelspec": {
   "display_name": "Python 3",
   "language": "python",
   "name": "python3"
  },
  "language_info": {
   "codemirror_mode": {
    "name": "ipython",
    "version": 3
   },
   "file_extension": ".py",
   "mimetype": "text/x-python",
   "name": "python",
   "nbconvert_exporter": "python",
   "pygments_lexer": "ipython3",
   "version": "3.6.5"
  }
 },
 "nbformat": 4,
 "nbformat_minor": 2
}
